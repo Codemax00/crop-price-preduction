��a      �sklearn.linear_model._base��LinearRegression���)��}�(�
fit_intercept���	normalize��
deprecated��copy_X���n_jobs�N�positive���feature_names_in_��joblib.numpy_pickle��NumpyArrayWrapper���)��}�(�subclass��numpy�� ndarray����shape�K���order��C��dtype�hh���O8�����R�(K�|�NNNJ����J����K?t�b�
allow_mmap���numpy_array_alignment_bytes�Kub�cnumpy.core.multiarray
_reconstruct
q cnumpy
ndarray
qK �qc_codecs
encode
qX   bqX   latin1q�qRq �qRq	(KK�q
cnumpy
dtype
qX   O8q���q
Rq(KX   |qNNNJ����J����K?tqb�]q(X   stateqX   districtqX   marketqX	   commodityqX    varietyqX	   min_priceqX	   max_priceqX   NitrogenqX
   PhosphorusqX	   PotassiumqX   TemperatureqX   HumidityqX   pH_ValueqX   RainfallqX   Yieldq etq!b.�b       �n_features_in_�K�coef_�h)��}�(hhhK��hhhh�f8�����R�(K�<�NNNJ����J����K t�bh �h!Kub�����$X2�]
@utǰ�B�?��A���?�ʎ/@j�?g�Ȑ%���V��?��uu@g�?�Z�(+�¿J � ��?�X�����?K���L�,\N��@��Z���?�Ֆԉ�?��Q�^��9       �rank_�K�	singular_�h)��}�(hhhK��hhhh)h �h!Kub��������HgAc@}6nzA0�Vp��@.�2}��@"'�PR�@�Xp��H�@�����m�@���mn�@�56����@v��Qg�@~��9��@^�J�֩�@�N�l�@�� N9{@�|<US@�_       �
intercept_��numpy.core.multiarray��scalar���h)C�a���)i����R��_sklearn_version��1.1.3�ub.